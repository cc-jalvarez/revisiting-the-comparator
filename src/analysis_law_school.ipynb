{
 "cells": [
  {
   "cell_type": "code",
   "execution_count": 1,
   "metadata": {},
   "outputs": [],
   "source": [
    "%load_ext autoreload\n",
    "%autoreload 2\n",
    "import os\n",
    "import sys\n",
    "import random\n",
    "import pandas as pd\n",
    "import numpy as np\n",
    "import seaborn as sns\n",
    "import matplotlib.pyplot as plt\n",
    "from situation_testing.situation_testing import SituationTesting\n",
    "\n",
    "# plot params\n",
    "plt.style.use('seaborn-whitegrid')\n",
    "plt.rc('font', size=11)\n",
    "plt.rc('legend', fontsize=11)\n",
    "plt.rc('lines', linewidth=2)\n",
    "plt.rc('axes', linewidth=2)\n",
    "plt.rc('axes', edgecolor='k')\n",
    "plt.rc('xtick.major', width=2)\n",
    "plt.rc('xtick.major', size=6)\n",
    "plt.rc('ytick.major', width=2)\n",
    "plt.rc('ytick.major', size=6)\n",
    "plt.rc('pdf', fonttype=42)\n",
    "plt.rc('ps', fonttype=42)"
   ]
  },
  {
   "cell_type": "code",
   "execution_count": 2,
   "metadata": {},
   "outputs": [],
   "source": [
    "# working directory\n",
    "wd = os.path.dirname(os.getcwd())\n",
    "# relevant folders\n",
    "data_path = os.path.abspath(os.path.join(wd, 'data')) + '\\\\'\n",
    "resu_path = os.path.abspath(os.path.join(wd, 'results')) + '\\\\'"
   ]
  },
  {
   "cell_type": "code",
   "execution_count": 3,
   "metadata": {},
   "outputs": [
    {
     "name": "stdout",
     "output_type": "stream",
     "text": [
      "(21790, 7)\n",
      "['race', 'sex', 'LSAT', 'UGPA', 'ZFYA', 'race_nonwhite', 'race_simpler']\n"
     ]
    },
    {
     "data": {
      "text/html": [
       "<div>\n",
       "<style scoped>\n",
       "    .dataframe tbody tr th:only-of-type {\n",
       "        vertical-align: middle;\n",
       "    }\n",
       "\n",
       "    .dataframe tbody tr th {\n",
       "        vertical-align: top;\n",
       "    }\n",
       "\n",
       "    .dataframe thead th {\n",
       "        text-align: right;\n",
       "    }\n",
       "</style>\n",
       "<table border=\"1\" class=\"dataframe\">\n",
       "  <thead>\n",
       "    <tr style=\"text-align: right;\">\n",
       "      <th></th>\n",
       "      <th>race</th>\n",
       "      <th>sex</th>\n",
       "      <th>LSAT</th>\n",
       "      <th>UGPA</th>\n",
       "      <th>ZFYA</th>\n",
       "      <th>race_nonwhite</th>\n",
       "      <th>race_simpler</th>\n",
       "    </tr>\n",
       "  </thead>\n",
       "  <tbody>\n",
       "    <tr>\n",
       "      <th>0</th>\n",
       "      <td>White</td>\n",
       "      <td>Female</td>\n",
       "      <td>39.0</td>\n",
       "      <td>3.1</td>\n",
       "      <td>-0.98</td>\n",
       "      <td>White</td>\n",
       "      <td>White</td>\n",
       "    </tr>\n",
       "    <tr>\n",
       "      <th>1</th>\n",
       "      <td>White</td>\n",
       "      <td>Female</td>\n",
       "      <td>36.0</td>\n",
       "      <td>3.0</td>\n",
       "      <td>0.09</td>\n",
       "      <td>White</td>\n",
       "      <td>White</td>\n",
       "    </tr>\n",
       "    <tr>\n",
       "      <th>2</th>\n",
       "      <td>White</td>\n",
       "      <td>Male</td>\n",
       "      <td>30.0</td>\n",
       "      <td>3.1</td>\n",
       "      <td>-0.35</td>\n",
       "      <td>White</td>\n",
       "      <td>White</td>\n",
       "    </tr>\n",
       "    <tr>\n",
       "      <th>3</th>\n",
       "      <td>Hispanic</td>\n",
       "      <td>Male</td>\n",
       "      <td>39.0</td>\n",
       "      <td>2.2</td>\n",
       "      <td>0.58</td>\n",
       "      <td>NonWhite</td>\n",
       "      <td>Latino</td>\n",
       "    </tr>\n",
       "    <tr>\n",
       "      <th>4</th>\n",
       "      <td>White</td>\n",
       "      <td>Female</td>\n",
       "      <td>37.0</td>\n",
       "      <td>3.4</td>\n",
       "      <td>-1.26</td>\n",
       "      <td>White</td>\n",
       "      <td>White</td>\n",
       "    </tr>\n",
       "  </tbody>\n",
       "</table>\n",
       "</div>"
      ],
      "text/plain": [
       "       race     sex  LSAT  UGPA  ZFYA race_nonwhite race_simpler\n",
       "0     White  Female  39.0   3.1 -0.98         White        White\n",
       "1     White  Female  36.0   3.0  0.09         White        White\n",
       "2     White    Male  30.0   3.1 -0.35         White        White\n",
       "3  Hispanic    Male  39.0   2.2  0.58      NonWhite       Latino\n",
       "4     White  Female  37.0   3.4 -1.26         White        White"
      ]
     },
     "execution_count": 3,
     "metadata": {},
     "output_type": "execute_result"
    }
   ],
   "source": [
    "# load and modify factual data accordingly\n",
    "org_df = pd.read_csv(data_path + 'LawSchool.csv', sep='|').reset_index(drop=True)\n",
    "print(org_df.shape)\n",
    "print(org_df.columns.to_list())\n",
    "org_df.head(5)"
   ]
  },
  {
   "cell_type": "code",
   "execution_count": 4,
   "metadata": {},
   "outputs": [
    {
     "name": "stdout",
     "output_type": "stream",
     "text": [
      "(21790, 4)\n",
      "['Gender', 'Race', 'LSAT', 'UGPA']\n"
     ]
    },
    {
     "data": {
      "text/html": [
       "<div>\n",
       "<style scoped>\n",
       "    .dataframe tbody tr th:only-of-type {\n",
       "        vertical-align: middle;\n",
       "    }\n",
       "\n",
       "    .dataframe tbody tr th {\n",
       "        vertical-align: top;\n",
       "    }\n",
       "\n",
       "    .dataframe thead th {\n",
       "        text-align: right;\n",
       "    }\n",
       "</style>\n",
       "<table border=\"1\" class=\"dataframe\">\n",
       "  <thead>\n",
       "    <tr style=\"text-align: right;\">\n",
       "      <th></th>\n",
       "      <th>Gender</th>\n",
       "      <th>Race</th>\n",
       "      <th>LSAT</th>\n",
       "      <th>UGPA</th>\n",
       "    </tr>\n",
       "  </thead>\n",
       "  <tbody>\n",
       "    <tr>\n",
       "      <th>0</th>\n",
       "      <td>Female</td>\n",
       "      <td>White</td>\n",
       "      <td>39.0</td>\n",
       "      <td>3.1</td>\n",
       "    </tr>\n",
       "    <tr>\n",
       "      <th>1</th>\n",
       "      <td>Female</td>\n",
       "      <td>White</td>\n",
       "      <td>36.0</td>\n",
       "      <td>3.0</td>\n",
       "    </tr>\n",
       "    <tr>\n",
       "      <th>2</th>\n",
       "      <td>Male</td>\n",
       "      <td>White</td>\n",
       "      <td>30.0</td>\n",
       "      <td>3.1</td>\n",
       "    </tr>\n",
       "    <tr>\n",
       "      <th>3</th>\n",
       "      <td>Male</td>\n",
       "      <td>NonWhite</td>\n",
       "      <td>39.0</td>\n",
       "      <td>2.2</td>\n",
       "    </tr>\n",
       "    <tr>\n",
       "      <th>4</th>\n",
       "      <td>Female</td>\n",
       "      <td>White</td>\n",
       "      <td>37.0</td>\n",
       "      <td>3.4</td>\n",
       "    </tr>\n",
       "  </tbody>\n",
       "</table>\n",
       "</div>"
      ],
      "text/plain": [
       "   Gender      Race  LSAT  UGPA\n",
       "0  Female     White  39.0   3.1\n",
       "1  Female     White  36.0   3.0\n",
       "2    Male     White  30.0   3.1\n",
       "3    Male  NonWhite  39.0   2.2\n",
       "4  Female     White  37.0   3.4"
      ]
     },
     "execution_count": 4,
     "metadata": {},
     "output_type": "execute_result"
    }
   ],
   "source": [
    "# we focus on sex and race_nonwhite\n",
    "df = org_df[['sex', 'race_nonwhite', 'LSAT', 'UGPA']].copy()\n",
    "df.rename(columns={'sex': 'Gender', 'race_nonwhite': 'Race'}, inplace=True)\n",
    "print(df.shape)\n",
    "print(df.columns.to_list())\n",
    "df.head(5)"
   ]
  },
  {
   "cell_type": "code",
   "execution_count": 5,
   "metadata": {},
   "outputs": [],
   "source": [
    "# Our decision maker:\n",
    "b1 = 0.6\n",
    "b2 = 0.4\n",
    "min_score = round(b1*3.93 + b2*46.1, 2)  # 20.8\n",
    "max_score = round(b1*4.00 + b2*48.00)    # 22"
   ]
  },
  {
   "cell_type": "code",
   "execution_count": 6,
   "metadata": {},
   "outputs": [
    {
     "data": {
      "text/html": [
       "<div>\n",
       "<style scoped>\n",
       "    .dataframe tbody tr th:only-of-type {\n",
       "        vertical-align: middle;\n",
       "    }\n",
       "\n",
       "    .dataframe tbody tr th {\n",
       "        vertical-align: top;\n",
       "    }\n",
       "\n",
       "    .dataframe thead th {\n",
       "        text-align: right;\n",
       "    }\n",
       "</style>\n",
       "<table border=\"1\" class=\"dataframe\">\n",
       "  <thead>\n",
       "    <tr style=\"text-align: right;\">\n",
       "      <th></th>\n",
       "      <th>Gender</th>\n",
       "      <th>Race</th>\n",
       "      <th>LSAT</th>\n",
       "      <th>UGPA</th>\n",
       "      <th>Score</th>\n",
       "      <th>Y</th>\n",
       "    </tr>\n",
       "  </thead>\n",
       "  <tbody>\n",
       "    <tr>\n",
       "      <th>0</th>\n",
       "      <td>Female</td>\n",
       "      <td>White</td>\n",
       "      <td>39.0</td>\n",
       "      <td>3.1</td>\n",
       "      <td>17.46</td>\n",
       "      <td>0</td>\n",
       "    </tr>\n",
       "    <tr>\n",
       "      <th>1</th>\n",
       "      <td>Female</td>\n",
       "      <td>White</td>\n",
       "      <td>36.0</td>\n",
       "      <td>3.0</td>\n",
       "      <td>16.20</td>\n",
       "      <td>0</td>\n",
       "    </tr>\n",
       "    <tr>\n",
       "      <th>2</th>\n",
       "      <td>Male</td>\n",
       "      <td>White</td>\n",
       "      <td>30.0</td>\n",
       "      <td>3.1</td>\n",
       "      <td>13.86</td>\n",
       "      <td>0</td>\n",
       "    </tr>\n",
       "    <tr>\n",
       "      <th>3</th>\n",
       "      <td>Male</td>\n",
       "      <td>NonWhite</td>\n",
       "      <td>39.0</td>\n",
       "      <td>2.2</td>\n",
       "      <td>16.92</td>\n",
       "      <td>0</td>\n",
       "    </tr>\n",
       "    <tr>\n",
       "      <th>4</th>\n",
       "      <td>Female</td>\n",
       "      <td>White</td>\n",
       "      <td>37.0</td>\n",
       "      <td>3.4</td>\n",
       "      <td>16.84</td>\n",
       "      <td>0</td>\n",
       "    </tr>\n",
       "  </tbody>\n",
       "</table>\n",
       "</div>"
      ],
      "text/plain": [
       "   Gender      Race  LSAT  UGPA  Score  Y\n",
       "0  Female     White  39.0   3.1  17.46  0\n",
       "1  Female     White  36.0   3.0  16.20  0\n",
       "2    Male     White  30.0   3.1  13.86  0\n",
       "3    Male  NonWhite  39.0   2.2  16.92  0\n",
       "4  Female     White  37.0   3.4  16.84  0"
      ]
     },
     "execution_count": 6,
     "metadata": {},
     "output_type": "execute_result"
    }
   ],
   "source": [
    "# add the decision maker\n",
    "df['Score'] = b1*df['UGPA'] + b2*df['LSAT']\n",
    "df['Y'] = np.where(df['Score'] >= min_score, 1, 0)\n",
    "df.head(5)"
   ]
  },
  {
   "cell_type": "code",
   "execution_count": null,
   "metadata": {},
   "outputs": [],
   "source": []
  },
  {
   "cell_type": "markdown",
   "metadata": {},
   "source": [
    "### $|\\mathbf{A}=1|$: Gender"
   ]
  },
  {
   "cell_type": "code",
   "execution_count": 9,
   "metadata": {},
   "outputs": [
    {
     "name": "stdout",
     "output_type": "stream",
     "text": [
      "(21790, 8)\n",
      "['female', 'nonwhite', 'Gender', 'Race', 'resid_LSAT', 'resid_UGPA', 'LSAT', 'UGPA']\n"
     ]
    },
    {
     "data": {
      "text/html": [
       "<div>\n",
       "<style scoped>\n",
       "    .dataframe tbody tr th:only-of-type {\n",
       "        vertical-align: middle;\n",
       "    }\n",
       "\n",
       "    .dataframe tbody tr th {\n",
       "        vertical-align: top;\n",
       "    }\n",
       "\n",
       "    .dataframe thead th {\n",
       "        text-align: right;\n",
       "    }\n",
       "</style>\n",
       "<table border=\"1\" class=\"dataframe\">\n",
       "  <thead>\n",
       "    <tr style=\"text-align: right;\">\n",
       "      <th></th>\n",
       "      <th>female</th>\n",
       "      <th>nonwhite</th>\n",
       "      <th>Gender</th>\n",
       "      <th>Race</th>\n",
       "      <th>resid_LSAT</th>\n",
       "      <th>resid_UGPA</th>\n",
       "      <th>LSAT</th>\n",
       "      <th>UGPA</th>\n",
       "    </tr>\n",
       "  </thead>\n",
       "  <tbody>\n",
       "    <tr>\n",
       "      <th>0</th>\n",
       "      <td>0</td>\n",
       "      <td>0</td>\n",
       "      <td>Female</td>\n",
       "      <td>White</td>\n",
       "      <td>1.823899</td>\n",
       "      <td>-0.232222</td>\n",
       "      <td>39.609</td>\n",
       "      <td>2.975</td>\n",
       "    </tr>\n",
       "    <tr>\n",
       "      <th>1</th>\n",
       "      <td>0</td>\n",
       "      <td>0</td>\n",
       "      <td>Female</td>\n",
       "      <td>White</td>\n",
       "      <td>-1.176101</td>\n",
       "      <td>-0.332222</td>\n",
       "      <td>36.609</td>\n",
       "      <td>2.875</td>\n",
       "    </tr>\n",
       "    <tr>\n",
       "      <th>2</th>\n",
       "      <td>0</td>\n",
       "      <td>0</td>\n",
       "      <td>Male</td>\n",
       "      <td>White</td>\n",
       "      <td>-7.784813</td>\n",
       "      <td>-0.107057</td>\n",
       "      <td>30.000</td>\n",
       "      <td>3.100</td>\n",
       "    </tr>\n",
       "    <tr>\n",
       "      <th>3</th>\n",
       "      <td>0</td>\n",
       "      <td>1</td>\n",
       "      <td>Male</td>\n",
       "      <td>NonWhite</td>\n",
       "      <td>5.853746</td>\n",
       "      <td>-0.788069</td>\n",
       "      <td>39.000</td>\n",
       "      <td>2.200</td>\n",
       "    </tr>\n",
       "    <tr>\n",
       "      <th>4</th>\n",
       "      <td>0</td>\n",
       "      <td>0</td>\n",
       "      <td>Female</td>\n",
       "      <td>White</td>\n",
       "      <td>-0.176101</td>\n",
       "      <td>0.067778</td>\n",
       "      <td>37.609</td>\n",
       "      <td>3.275</td>\n",
       "    </tr>\n",
       "  </tbody>\n",
       "</table>\n",
       "</div>"
      ],
      "text/plain": [
       "   female  nonwhite  Gender      Race  resid_LSAT  resid_UGPA    LSAT   UGPA\n",
       "0       0         0  Female     White    1.823899   -0.232222  39.609  2.975\n",
       "1       0         0  Female     White   -1.176101   -0.332222  36.609  2.875\n",
       "2       0         0    Male     White   -7.784813   -0.107057  30.000  3.100\n",
       "3       0         1    Male  NonWhite    5.853746   -0.788069  39.000  2.200\n",
       "4       0         0  Female     White   -0.176101    0.067778  37.609  3.275"
      ]
     },
     "execution_count": 9,
     "metadata": {},
     "output_type": "execute_result"
    }
   ],
   "source": [
    "do = 'Male'\n",
    "org_cf_df = pd.read_csv(data_path + f'cf_LawSchool_lev3_do{do}.csv', sep='|').reset_index(drop=True)\n",
    "\n",
    "# added for box-plots\n",
    "org_cf_df = org_cf_df.rename(columns={'Sex': 'Gender', 'scf_LSAT': 'LSAT', 'scf_UGPA': 'UGPA'})\n",
    "\n",
    "print(org_cf_df.shape)\n",
    "print(org_cf_df.columns.to_list())\n",
    "org_cf_df.head(5)"
   ]
  },
  {
   "cell_type": "code",
   "execution_count": 12,
   "metadata": {},
   "outputs": [
    {
     "data": {
      "text/html": [
       "<div>\n",
       "<style scoped>\n",
       "    .dataframe tbody tr th:only-of-type {\n",
       "        vertical-align: middle;\n",
       "    }\n",
       "\n",
       "    .dataframe tbody tr th {\n",
       "        vertical-align: top;\n",
       "    }\n",
       "\n",
       "    .dataframe thead th {\n",
       "        text-align: right;\n",
       "    }\n",
       "</style>\n",
       "<table border=\"1\" class=\"dataframe\">\n",
       "  <thead>\n",
       "    <tr style=\"text-align: right;\">\n",
       "      <th></th>\n",
       "      <th>Gender</th>\n",
       "      <th>Race</th>\n",
       "      <th>LSAT</th>\n",
       "      <th>UGPA</th>\n",
       "      <th>Score</th>\n",
       "      <th>Y</th>\n",
       "    </tr>\n",
       "  </thead>\n",
       "  <tbody>\n",
       "    <tr>\n",
       "      <th>0</th>\n",
       "      <td>Female</td>\n",
       "      <td>White</td>\n",
       "      <td>39.609</td>\n",
       "      <td>2.975</td>\n",
       "      <td>17.6286</td>\n",
       "      <td>0</td>\n",
       "    </tr>\n",
       "    <tr>\n",
       "      <th>1</th>\n",
       "      <td>Female</td>\n",
       "      <td>White</td>\n",
       "      <td>36.609</td>\n",
       "      <td>2.875</td>\n",
       "      <td>16.3686</td>\n",
       "      <td>0</td>\n",
       "    </tr>\n",
       "    <tr>\n",
       "      <th>2</th>\n",
       "      <td>Male</td>\n",
       "      <td>White</td>\n",
       "      <td>30.000</td>\n",
       "      <td>3.100</td>\n",
       "      <td>13.8600</td>\n",
       "      <td>0</td>\n",
       "    </tr>\n",
       "    <tr>\n",
       "      <th>3</th>\n",
       "      <td>Male</td>\n",
       "      <td>NonWhite</td>\n",
       "      <td>39.000</td>\n",
       "      <td>2.200</td>\n",
       "      <td>16.9200</td>\n",
       "      <td>0</td>\n",
       "    </tr>\n",
       "    <tr>\n",
       "      <th>4</th>\n",
       "      <td>Female</td>\n",
       "      <td>White</td>\n",
       "      <td>37.609</td>\n",
       "      <td>3.275</td>\n",
       "      <td>17.0086</td>\n",
       "      <td>0</td>\n",
       "    </tr>\n",
       "  </tbody>\n",
       "</table>\n",
       "</div>"
      ],
      "text/plain": [
       "   Gender      Race    LSAT   UGPA    Score  Y\n",
       "0  Female     White  39.609  2.975  17.6286  0\n",
       "1  Female     White  36.609  2.875  16.3686  0\n",
       "2    Male     White  30.000  3.100  13.8600  0\n",
       "3    Male  NonWhite  39.000  2.200  16.9200  0\n",
       "4  Female     White  37.609  3.275  17.0086  0"
      ]
     },
     "execution_count": 12,
     "metadata": {},
     "output_type": "execute_result"
    }
   ],
   "source": [
    "# cf_df = org_cf_df[['Sex', 'Race', 'scf_LSAT', 'scf_UGPA']].copy()\n",
    "# cf_df = cf_df.rename(columns={'Sex': 'Gender', 'scf_LSAT': 'LSAT', 'scf_UGPA': 'UGPA'})\n",
    "cf_df = org_cf_df[['Gender', 'Race', 'LSAT', 'UGPA']].copy()\n",
    "\n",
    "# add the decision maker\n",
    "cf_df['Score'] = b1*cf_df['UGPA'] + b2*cf_df['LSAT']\n",
    "cf_df['Y'] = np.where(cf_df['Score'] >= min_score, 1, 0)\n",
    "cf_df.head(5)"
   ]
  },
  {
   "cell_type": "code",
   "execution_count": 13,
   "metadata": {},
   "outputs": [
    {
     "data": {
      "text/html": [
       "<div>\n",
       "<style scoped>\n",
       "    .dataframe tbody tr th:only-of-type {\n",
       "        vertical-align: middle;\n",
       "    }\n",
       "\n",
       "    .dataframe tbody tr th {\n",
       "        vertical-align: top;\n",
       "    }\n",
       "\n",
       "    .dataframe thead th {\n",
       "        text-align: right;\n",
       "    }\n",
       "</style>\n",
       "<table border=\"1\" class=\"dataframe\">\n",
       "  <thead>\n",
       "    <tr style=\"text-align: right;\">\n",
       "      <th></th>\n",
       "      <th>Gender</th>\n",
       "      <th>Race</th>\n",
       "      <th>Y</th>\n",
       "      <th>cf_Y</th>\n",
       "    </tr>\n",
       "  </thead>\n",
       "  <tbody>\n",
       "    <tr>\n",
       "      <th>0</th>\n",
       "      <td>Female</td>\n",
       "      <td>White</td>\n",
       "      <td>0</td>\n",
       "      <td>0</td>\n",
       "    </tr>\n",
       "    <tr>\n",
       "      <th>1</th>\n",
       "      <td>Female</td>\n",
       "      <td>White</td>\n",
       "      <td>0</td>\n",
       "      <td>0</td>\n",
       "    </tr>\n",
       "    <tr>\n",
       "      <th>2</th>\n",
       "      <td>Male</td>\n",
       "      <td>White</td>\n",
       "      <td>0</td>\n",
       "      <td>0</td>\n",
       "    </tr>\n",
       "    <tr>\n",
       "      <th>3</th>\n",
       "      <td>Male</td>\n",
       "      <td>NonWhite</td>\n",
       "      <td>0</td>\n",
       "      <td>0</td>\n",
       "    </tr>\n",
       "    <tr>\n",
       "      <th>4</th>\n",
       "      <td>Female</td>\n",
       "      <td>White</td>\n",
       "      <td>0</td>\n",
       "      <td>0</td>\n",
       "    </tr>\n",
       "  </tbody>\n",
       "</table>\n",
       "</div>"
      ],
      "text/plain": [
       "   Gender      Race  Y  cf_Y\n",
       "0  Female     White  0     0\n",
       "1  Female     White  0     0\n",
       "2    Male     White  0     0\n",
       "3    Male  NonWhite  0     0\n",
       "4  Female     White  0     0"
      ]
     },
     "execution_count": 13,
     "metadata": {},
     "output_type": "execute_result"
    }
   ],
   "source": [
    "# store do:=Male results\n",
    "m_res_df = df[['Gender', 'Race', 'Y']].copy()\n",
    "m_res_df['cf_Y'] = cf_df[['Y']].copy()\n",
    "m_res_df.head(5)"
   ]
  },
  {
   "cell_type": "code",
   "execution_count": 51,
   "metadata": {},
   "outputs": [],
   "source": [
    "# --- attribute-specific params\n",
    "feat_trgt = 'Y'\n",
    "feat_trgt_vals = {'positive': 1, 'negative': 0}\n",
    "# list of relevant features\n",
    "feat_rlvt = ['LSAT', 'UGPA']\n",
    "# protected feature\n",
    "feat_prot = 'Gender'\n",
    "# values for the protected feature: use 'non_protected' and 'protected' accordingly\n",
    "feat_prot_vals = {'non_protected': 'Male', 'protected': 'Female'}\n",
    "\n",
    "# --- st-specific params\n",
    "# size of neighborhoods\n",
    "n = 100\n",
    "# significance level\n",
    "alpha = 0.05\n",
    "# tau diviation\n",
    "tau = 0.0"
   ]
  },
  {
   "cell_type": "markdown",
   "metadata": {},
   "source": [
    "#### Standard ST (stST)"
   ]
  },
  {
   "cell_type": "code",
   "execution_count": 52,
   "metadata": {},
   "outputs": [],
   "source": [
    "test_df = df.copy()\n",
    "\n",
    "st = SituationTesting()\n",
    "st.setup_baseline(test_df, nominal_atts=['Gender'], continuous_atts=['LSAT', 'UGPA'])\n",
    "\n",
    "m_res_df['stST'] = st.run(target_att=feat_trgt, target_val=feat_trgt_vals,  \n",
    "                          sensitive_att=feat_prot, sensitive_val=feat_prot_vals,\n",
    "                          k=n, alpha=alpha, tau=tau)"
   ]
  },
  {
   "cell_type": "code",
   "execution_count": 53,
   "metadata": {},
   "outputs": [
    {
     "data": {
      "text/plain": [
       "258"
      ]
     },
     "execution_count": 53,
     "metadata": {},
     "output_type": "execute_result"
    }
   ],
   "source": [
    "m_res_df[(m_res_df['stST'] > tau)].shape[0]"
   ]
  },
  {
   "cell_type": "markdown",
   "metadata": {},
   "source": [
    "#### Counterfactual Situation Testing (cfST)"
   ]
  },
  {
   "cell_type": "code",
   "execution_count": 54,
   "metadata": {},
   "outputs": [],
   "source": [
    "test_df    = df.copy()\n",
    "test_cf_df = cf_df.copy()\n",
    "\n",
    "cf_st = SituationTesting()\n",
    "cf_st.setup_baseline(test_df, test_cf_df, nominal_atts=['Gender'], continuous_atts=['LSAT', 'UGPA'])\n",
    "\n",
    "m_res_df['cfST'] = cf_st.run(target_att=feat_trgt, target_val=feat_trgt_vals, \n",
    "                             sensitive_att=feat_prot, sensitive_val=feat_prot_vals,\n",
    "                             include_centers=False,\n",
    "                             k=n, alpha=alpha, tau=tau)"
   ]
  },
  {
   "cell_type": "code",
   "execution_count": 55,
   "metadata": {},
   "outputs": [
    {
     "data": {
      "text/plain": [
       "296"
      ]
     },
     "execution_count": 55,
     "metadata": {},
     "output_type": "execute_result"
    }
   ],
   "source": [
    "m_res_df[(m_res_df['cfST'] > tau)].shape[0]"
   ]
  },
  {
   "cell_type": "code",
   "execution_count": 56,
   "metadata": {},
   "outputs": [],
   "source": [
    "# get all neighborhoods for ST\n",
    "stST_knn = st.res_dict_df_neighbors\n",
    "# get all neighnorhoods for cfST\n",
    "cfST_knn = cf_st.res_dict_df_neighbors"
   ]
  },
  {
   "cell_type": "code",
   "execution_count": 58,
   "metadata": {},
   "outputs": [
    {
     "name": "stdout",
     "output_type": "stream",
     "text": [
      "215\n"
     ]
    }
   ],
   "source": [
    "# complainants in both stST and cfST\n",
    "set1 = m_res_df[(m_res_df['stST'] > tau) & (m_res_df['cfST'] > tau)].index.to_list()\n",
    "print(len(set1))"
   ]
  },
  {
   "cell_type": "code",
   "execution_count": 59,
   "metadata": {},
   "outputs": [
    {
     "name": "stdout",
     "output_type": "stream",
     "text": [
      "[14822, 1349, 20293, 21272, 13031, 16588, 750]\n"
     ]
    }
   ],
   "source": [
    "# let's look at those c's that appear both in stST and cfST\n",
    "test_n = 7\n",
    "\n",
    "test_c = random.sample(set1, test_n)\n",
    "# test_c = random.sample(set2, test_n)\n",
    "\n",
    "print(test_c)\n",
    "\n",
    "var = ['LSAT', 'UGPA']\n",
    "temp_df_list = []\n",
    "\n",
    "for c in test_c:\n",
    "\n",
    "    temp_ctr = org_df.iloc[stST_knn[c]['ctr_idx'], :][var].copy()\n",
    "    temp_ctr['ID'] = str(c)\n",
    "    temp_ctr['Type'] = 'ctr'\n",
    "    temp_df_list.append(temp_ctr)\n",
    "    del temp_ctr\n",
    "\n",
    "    temp_tst_st = org_df.iloc[stST_knn[c]['tst_idx'], :][var].copy()\n",
    "    temp_tst_st['ID'] = str(c)\n",
    "    temp_tst_st['Type'] = 'tst-st'\n",
    "    temp_df_list.append(temp_tst_st)\n",
    "    del temp_tst_st\n",
    "    \n",
    "    temp_tst_cf = org_cf_df.iloc[cfST_knn[c]['tst_idx'], :][var].copy()\n",
    "    temp_tst_cf['ID'] = str(c)\n",
    "    temp_tst_cf['Type'] = 'tst-cf'\n",
    "    temp_df_list.append(temp_tst_cf)\n",
    "    del temp_tst_cf\n",
    "\n",
    "box_plot_data = pd.concat(temp_df_list)\n",
    "del temp_df_list"
   ]
  },
  {
   "cell_type": "code",
   "execution_count": 68,
   "metadata": {},
   "outputs": [
    {
     "data": {
      "text/plain": [
       "[Text(0, 0.5, 'LSAT'), Text(0.5, 0, 'Female Complainant ID')]"
      ]
     },
     "execution_count": 68,
     "metadata": {},
     "output_type": "execute_result"
    },
    {
     "data": {
      "image/png": "[encoded data removed]",
      "text/plain": [
       "<Figure size 432x288 with 1 Axes>"
      ]
     },
     "metadata": {},
     "output_type": "display_data"
    }
   ],
   "source": [
    "# box_plot_data\n",
    "plt.ylim(42, 49)\n",
    "sns.boxplot(x = box_plot_data['ID'],\n",
    "            y = box_plot_data['LSAT'],\n",
    "            hue = box_plot_data['Type']).set(ylabel = 'LSAT', xlabel = 'Female Complainant ID')"
   ]
  },
  {
   "cell_type": "code",
   "execution_count": 69,
   "metadata": {},
   "outputs": [
    {
     "data": {
      "text/plain": [
       "[Text(0, 0.5, 'UGPA'), Text(0.5, 0, 'Female Complainant ID')]"
      ]
     },
     "execution_count": 69,
     "metadata": {},
     "output_type": "execute_result"
    },
    {
     "data": {
      "image/png": "[encoded data removed]",
      "text/plain": [
       "<Figure size 432x288 with 1 Axes>"
      ]
     },
     "metadata": {},
     "output_type": "display_data"
    }
   ],
   "source": [
    "# box_plot_data\n",
    "plt.ylim(3.2, 4.2)\n",
    "sns.boxplot(x = box_plot_data['ID'],\n",
    "            y = box_plot_data['UGPA'],\n",
    "            hue = box_plot_data['Type']).set(ylabel = 'UGPA', xlabel = 'Female Complainant ID')"
   ]
  },
  {
   "cell_type": "code",
   "execution_count": null,
   "metadata": {},
   "outputs": [],
   "source": []
  },
  {
   "cell_type": "markdown",
   "metadata": {},
   "source": [
    "### $|\\mathbf{A}=1|$: Race"
   ]
  },
  {
   "cell_type": "code",
   "execution_count": 72,
   "metadata": {},
   "outputs": [
    {
     "name": "stdout",
     "output_type": "stream",
     "text": [
      "(21790, 8)\n",
      "['female', 'nonwhite', 'Sex', 'Race', 'resid_LSAT', 'resid_UGPA', 'scf_LSAT', 'scf_UGPA']\n"
     ]
    },
    {
     "data": {
      "text/html": [
       "<div>\n",
       "<style scoped>\n",
       "    .dataframe tbody tr th:only-of-type {\n",
       "        vertical-align: middle;\n",
       "    }\n",
       "\n",
       "    .dataframe tbody tr th {\n",
       "        vertical-align: top;\n",
       "    }\n",
       "\n",
       "    .dataframe thead th {\n",
       "        text-align: right;\n",
       "    }\n",
       "</style>\n",
       "<table border=\"1\" class=\"dataframe\">\n",
       "  <thead>\n",
       "    <tr style=\"text-align: right;\">\n",
       "      <th></th>\n",
       "      <th>female</th>\n",
       "      <th>nonwhite</th>\n",
       "      <th>Sex</th>\n",
       "      <th>Race</th>\n",
       "      <th>resid_LSAT</th>\n",
       "      <th>resid_UGPA</th>\n",
       "      <th>scf_LSAT</th>\n",
       "      <th>scf_UGPA</th>\n",
       "    </tr>\n",
       "  </thead>\n",
       "  <tbody>\n",
       "    <tr>\n",
       "      <th>0</th>\n",
       "      <td>1</td>\n",
       "      <td>0</td>\n",
       "      <td>Female</td>\n",
       "      <td>White</td>\n",
       "      <td>1.823899</td>\n",
       "      <td>-0.232222</td>\n",
       "      <td>39.000</td>\n",
       "      <td>3.100</td>\n",
       "    </tr>\n",
       "    <tr>\n",
       "      <th>1</th>\n",
       "      <td>1</td>\n",
       "      <td>0</td>\n",
       "      <td>Female</td>\n",
       "      <td>White</td>\n",
       "      <td>-1.176101</td>\n",
       "      <td>-0.332222</td>\n",
       "      <td>36.000</td>\n",
       "      <td>3.000</td>\n",
       "    </tr>\n",
       "    <tr>\n",
       "      <th>2</th>\n",
       "      <td>0</td>\n",
       "      <td>0</td>\n",
       "      <td>Male</td>\n",
       "      <td>White</td>\n",
       "      <td>-7.784813</td>\n",
       "      <td>-0.107057</td>\n",
       "      <td>30.000</td>\n",
       "      <td>3.100</td>\n",
       "    </tr>\n",
       "    <tr>\n",
       "      <th>3</th>\n",
       "      <td>0</td>\n",
       "      <td>0</td>\n",
       "      <td>Male</td>\n",
       "      <td>NonWhite</td>\n",
       "      <td>5.853746</td>\n",
       "      <td>-0.788069</td>\n",
       "      <td>43.639</td>\n",
       "      <td>2.419</td>\n",
       "    </tr>\n",
       "    <tr>\n",
       "      <th>4</th>\n",
       "      <td>1</td>\n",
       "      <td>0</td>\n",
       "      <td>Female</td>\n",
       "      <td>White</td>\n",
       "      <td>-0.176101</td>\n",
       "      <td>0.067778</td>\n",
       "      <td>37.000</td>\n",
       "      <td>3.400</td>\n",
       "    </tr>\n",
       "  </tbody>\n",
       "</table>\n",
       "</div>"
      ],
      "text/plain": [
       "   female  nonwhite     Sex      Race  resid_LSAT  resid_UGPA  scf_LSAT  \\\n",
       "0       1         0  Female     White    1.823899   -0.232222    39.000   \n",
       "1       1         0  Female     White   -1.176101   -0.332222    36.000   \n",
       "2       0         0    Male     White   -7.784813   -0.107057    30.000   \n",
       "3       0         0    Male  NonWhite    5.853746   -0.788069    43.639   \n",
       "4       1         0  Female     White   -0.176101    0.067778    37.000   \n",
       "\n",
       "   scf_UGPA  \n",
       "0     3.100  \n",
       "1     3.000  \n",
       "2     3.100  \n",
       "3     2.419  \n",
       "4     3.400  "
      ]
     },
     "execution_count": 72,
     "metadata": {},
     "output_type": "execute_result"
    }
   ],
   "source": [
    "do = 'White'\n",
    "org_cf_df = pd.read_csv(data_path + '\\\\' + f'cf_LawSchool_lev3_do{do}.csv', sep='|').reset_index(drop=True)\n",
    "print(org_cf_df.shape)\n",
    "print(org_cf_df.columns.to_list())\n",
    "org_cf_df.head(5)"
   ]
  },
  {
   "cell_type": "code",
   "execution_count": 73,
   "metadata": {},
   "outputs": [
    {
     "data": {
      "text/html": [
       "<div>\n",
       "<style scoped>\n",
       "    .dataframe tbody tr th:only-of-type {\n",
       "        vertical-align: middle;\n",
       "    }\n",
       "\n",
       "    .dataframe tbody tr th {\n",
       "        vertical-align: top;\n",
       "    }\n",
       "\n",
       "    .dataframe thead th {\n",
       "        text-align: right;\n",
       "    }\n",
       "</style>\n",
       "<table border=\"1\" class=\"dataframe\">\n",
       "  <thead>\n",
       "    <tr style=\"text-align: right;\">\n",
       "      <th></th>\n",
       "      <th>Gender</th>\n",
       "      <th>Race</th>\n",
       "      <th>LSAT</th>\n",
       "      <th>UGPA</th>\n",
       "      <th>Score</th>\n",
       "      <th>Y</th>\n",
       "    </tr>\n",
       "  </thead>\n",
       "  <tbody>\n",
       "    <tr>\n",
       "      <th>0</th>\n",
       "      <td>Female</td>\n",
       "      <td>White</td>\n",
       "      <td>39.000</td>\n",
       "      <td>3.100</td>\n",
       "      <td>17.460</td>\n",
       "      <td>0</td>\n",
       "    </tr>\n",
       "    <tr>\n",
       "      <th>1</th>\n",
       "      <td>Female</td>\n",
       "      <td>White</td>\n",
       "      <td>36.000</td>\n",
       "      <td>3.000</td>\n",
       "      <td>16.200</td>\n",
       "      <td>0</td>\n",
       "    </tr>\n",
       "    <tr>\n",
       "      <th>2</th>\n",
       "      <td>Male</td>\n",
       "      <td>White</td>\n",
       "      <td>30.000</td>\n",
       "      <td>3.100</td>\n",
       "      <td>13.860</td>\n",
       "      <td>0</td>\n",
       "    </tr>\n",
       "    <tr>\n",
       "      <th>3</th>\n",
       "      <td>Male</td>\n",
       "      <td>NonWhite</td>\n",
       "      <td>43.639</td>\n",
       "      <td>2.419</td>\n",
       "      <td>18.907</td>\n",
       "      <td>0</td>\n",
       "    </tr>\n",
       "    <tr>\n",
       "      <th>4</th>\n",
       "      <td>Female</td>\n",
       "      <td>White</td>\n",
       "      <td>37.000</td>\n",
       "      <td>3.400</td>\n",
       "      <td>16.840</td>\n",
       "      <td>0</td>\n",
       "    </tr>\n",
       "  </tbody>\n",
       "</table>\n",
       "</div>"
      ],
      "text/plain": [
       "   Gender      Race    LSAT   UGPA   Score  Y\n",
       "0  Female     White  39.000  3.100  17.460  0\n",
       "1  Female     White  36.000  3.000  16.200  0\n",
       "2    Male     White  30.000  3.100  13.860  0\n",
       "3    Male  NonWhite  43.639  2.419  18.907  0\n",
       "4  Female     White  37.000  3.400  16.840  0"
      ]
     },
     "execution_count": 73,
     "metadata": {},
     "output_type": "execute_result"
    }
   ],
   "source": [
    "# added for box-plots\n",
    "org_cf_df = org_cf_df.rename(columns={'Sex': 'Gender', 'scf_LSAT': 'LSAT', 'scf_UGPA': 'UGPA'})\n",
    "\n",
    "cf_df = org_cf_df[['Gender', 'Race', 'LSAT', 'UGPA']].copy()\n",
    "# cf_df = cf_df.rename(columns={'Sex': 'Gender', 'scf_LSAT': 'LSAT', 'scf_UGPA': 'UGPA'})\n",
    "\n",
    "# add the decision maker\n",
    "cf_df['Score'] = b1*cf_df['UGPA'] + b2*cf_df['LSAT']\n",
    "cf_df['Y'] = np.where(cf_df['Score'] >= min_score, 1, 0)\n",
    "cf_df.head(5)"
   ]
  },
  {
   "cell_type": "code",
   "execution_count": 74,
   "metadata": {},
   "outputs": [
    {
     "data": {
      "text/html": [
       "<div>\n",
       "<style scoped>\n",
       "    .dataframe tbody tr th:only-of-type {\n",
       "        vertical-align: middle;\n",
       "    }\n",
       "\n",
       "    .dataframe tbody tr th {\n",
       "        vertical-align: top;\n",
       "    }\n",
       "\n",
       "    .dataframe thead th {\n",
       "        text-align: right;\n",
       "    }\n",
       "</style>\n",
       "<table border=\"1\" class=\"dataframe\">\n",
       "  <thead>\n",
       "    <tr style=\"text-align: right;\">\n",
       "      <th></th>\n",
       "      <th>Gender</th>\n",
       "      <th>Race</th>\n",
       "      <th>Y</th>\n",
       "      <th>cf_Y</th>\n",
       "    </tr>\n",
       "  </thead>\n",
       "  <tbody>\n",
       "    <tr>\n",
       "      <th>0</th>\n",
       "      <td>Female</td>\n",
       "      <td>White</td>\n",
       "      <td>0</td>\n",
       "      <td>0</td>\n",
       "    </tr>\n",
       "    <tr>\n",
       "      <th>1</th>\n",
       "      <td>Female</td>\n",
       "      <td>White</td>\n",
       "      <td>0</td>\n",
       "      <td>0</td>\n",
       "    </tr>\n",
       "    <tr>\n",
       "      <th>2</th>\n",
       "      <td>Male</td>\n",
       "      <td>White</td>\n",
       "      <td>0</td>\n",
       "      <td>0</td>\n",
       "    </tr>\n",
       "    <tr>\n",
       "      <th>3</th>\n",
       "      <td>Male</td>\n",
       "      <td>NonWhite</td>\n",
       "      <td>0</td>\n",
       "      <td>0</td>\n",
       "    </tr>\n",
       "    <tr>\n",
       "      <th>4</th>\n",
       "      <td>Female</td>\n",
       "      <td>White</td>\n",
       "      <td>0</td>\n",
       "      <td>0</td>\n",
       "    </tr>\n",
       "  </tbody>\n",
       "</table>\n",
       "</div>"
      ],
      "text/plain": [
       "   Gender      Race  Y  cf_Y\n",
       "0  Female     White  0     0\n",
       "1  Female     White  0     0\n",
       "2    Male     White  0     0\n",
       "3    Male  NonWhite  0     0\n",
       "4  Female     White  0     0"
      ]
     },
     "execution_count": 74,
     "metadata": {},
     "output_type": "execute_result"
    }
   ],
   "source": [
    "# store do:=White results\n",
    "w_res_df = df[['Gender', 'Race', 'Y']].copy()\n",
    "w_res_df['cf_Y'] = cf_df[['Y']].copy()\n",
    "w_res_df.head(5)"
   ]
  },
  {
   "cell_type": "code",
   "execution_count": 88,
   "metadata": {},
   "outputs": [],
   "source": [
    "# attribute-specific params\n",
    "feat_trgt = 'Y'\n",
    "feat_trgt_vals = {'positive': 1, 'negative': 0}\n",
    "# list of relevant features\n",
    "feat_rlvt = ['LSAT', 'UGPA']\n",
    "# protected feature\n",
    "feat_prot = 'Race'\n",
    "# values for the protected feature: use 'non_protected' and 'protected' accordingly\n",
    "feat_prot_vals = {'non_protected': 'White', 'protected': 'NonWhite'}\n",
    "\n",
    "# st-specific params\n",
    "# size of neiuborhoods\n",
    "n = 100\n",
    "# significance level\n",
    "alpha = 0.05\n",
    "# tau diviation\n",
    "tau = 0.0"
   ]
  },
  {
   "cell_type": "markdown",
   "metadata": {},
   "source": [
    "#### Standard ST (stST)"
   ]
  },
  {
   "cell_type": "code",
   "execution_count": 89,
   "metadata": {},
   "outputs": [],
   "source": [
    "test_df = df.copy()\n",
    "\n",
    "st = SituationTesting()\n",
    "st.setup_baseline(test_df, nominal_atts=['Race'], continuous_atts=['LSAT', 'UGPA'])\n",
    "\n",
    "w_res_df['stST'] = st.run(target_att=feat_trgt, target_val=feat_trgt_vals,  \n",
    "                          sensitive_att=feat_prot, sensitive_val=feat_prot_vals,\n",
    "                          k=n, alpha=alpha, tau=tau)"
   ]
  },
  {
   "cell_type": "code",
   "execution_count": 90,
   "metadata": {},
   "outputs": [
    {
     "data": {
      "text/plain": [
       "58"
      ]
     },
     "execution_count": 90,
     "metadata": {},
     "output_type": "execute_result"
    }
   ],
   "source": [
    "w_res_df[(w_res_df['stST'] > tau)].shape[0]"
   ]
  },
  {
   "cell_type": "markdown",
   "metadata": {},
   "source": [
    "#### Counterfactual Situation Testing (cfST)"
   ]
  },
  {
   "cell_type": "code",
   "execution_count": 91,
   "metadata": {},
   "outputs": [],
   "source": [
    "test_df    = df.copy()\n",
    "test_cf_df = cf_df.copy()\n",
    "\n",
    "cf_st = SituationTesting()\n",
    "cf_st.setup_baseline(test_df, test_cf_df, nominal_atts=['Race'], continuous_atts=['LSAT', 'UGPA'])\n",
    "\n",
    "w_res_df['cfST'] = cf_st.run(target_att=feat_trgt, target_val=feat_trgt_vals, \n",
    "                             sensitive_att=feat_prot, sensitive_val=feat_prot_vals,\n",
    "                             include_centers=False,\n",
    "                             k=n, alpha=alpha, tau=tau)"
   ]
  },
  {
   "cell_type": "code",
   "execution_count": 92,
   "metadata": {},
   "outputs": [
    {
     "data": {
      "text/plain": [
       "337"
      ]
     },
     "execution_count": 92,
     "metadata": {},
     "output_type": "execute_result"
    }
   ],
   "source": [
    "w_res_df[(w_res_df['cfST'] > tau)].shape[0]"
   ]
  },
  {
   "cell_type": "code",
   "execution_count": 93,
   "metadata": {},
   "outputs": [],
   "source": [
    "# get all neighborhoods for ST\n",
    "stST_knn = st.res_dict_df_neighbors\n",
    "# get all neighnorhoods for cfST\n",
    "cfST_knn = cf_st.res_dict_df_neighbors"
   ]
  },
  {
   "cell_type": "code",
   "execution_count": 94,
   "metadata": {},
   "outputs": [
    {
     "name": "stdout",
     "output_type": "stream",
     "text": [
      "58\n"
     ]
    }
   ],
   "source": [
    "# complainants in both stST and cfST\n",
    "set1 = w_res_df[(w_res_df['stST'] > tau) & (w_res_df['cfST'] > tau)].index.to_list()\n",
    "print(len(set1))"
   ]
  },
  {
   "cell_type": "code",
   "execution_count": 95,
   "metadata": {},
   "outputs": [
    {
     "name": "stdout",
     "output_type": "stream",
     "text": [
      "[12877, 8072, 4281, 10501, 15592, 721, 21558]\n"
     ]
    }
   ],
   "source": [
    "# let's look at those c's that appear both in stST and cfST\n",
    "test_n = 7\n",
    "\n",
    "test_c = random.sample(set1, test_n)\n",
    "# test_c = random.sample(set2, test_n)\n",
    "\n",
    "print(test_c)\n",
    "\n",
    "var = ['LSAT', 'UGPA']\n",
    "temp_df_list = []\n",
    "\n",
    "for c in test_c:\n",
    "\n",
    "    temp_ctr = org_df.iloc[stST_knn[c]['ctr_idx'], :][var].copy()\n",
    "    temp_ctr['ID'] = str(c)\n",
    "    temp_ctr['Type'] = 'ctr'\n",
    "    temp_df_list.append(temp_ctr)\n",
    "    del temp_ctr\n",
    "\n",
    "    temp_tst_st = org_df.iloc[stST_knn[c]['tst_idx'], :][var].copy()\n",
    "    temp_tst_st['ID'] = str(c)\n",
    "    temp_tst_st['Type'] = 'tst-st'\n",
    "    temp_df_list.append(temp_tst_st)\n",
    "    del temp_tst_st\n",
    "    \n",
    "    temp_tst_cf = org_cf_df.iloc[cfST_knn[c]['tst_idx'], :][var].copy()\n",
    "    temp_tst_cf['ID'] = str(c)\n",
    "    temp_tst_cf['Type'] = 'tst-cf'\n",
    "    temp_df_list.append(temp_tst_cf)\n",
    "    del temp_tst_cf\n",
    "\n",
    "box_plot_data = pd.concat(temp_df_list)\n",
    "del temp_df_list"
   ]
  },
  {
   "cell_type": "code",
   "execution_count": 103,
   "metadata": {},
   "outputs": [
    {
     "data": {
      "text/plain": [
       "[Text(0, 0.5, 'LSAT'), Text(0.5, 0, 'Non-white Complainant ID')]"
      ]
     },
     "execution_count": 103,
     "metadata": {},
     "output_type": "execute_result"
    },
    {
     "data": {
      "image/png": "[encoded data removed]",
      "text/plain": [
       "<Figure size 432x288 with 1 Axes>"
      ]
     },
     "metadata": {},
     "output_type": "display_data"
    }
   ],
   "source": [
    "# box_plot_data\n",
    "plt.ylim(38, 49)\n",
    "sns.boxplot(x = box_plot_data['ID'],\n",
    "            y = box_plot_data['LSAT'],\n",
    "            hue = box_plot_data['Type']).set(ylabel = 'LSAT', xlabel = 'Non-white Complainant ID')"
   ]
  },
  {
   "cell_type": "code",
   "execution_count": 100,
   "metadata": {},
   "outputs": [
    {
     "data": {
      "text/plain": [
       "[Text(0, 0.5, 'UGPA'), Text(0.5, 0, 'Non-White Complainant ID')]"
      ]
     },
     "execution_count": 100,
     "metadata": {},
     "output_type": "execute_result"
    },
    {
     "data": {
      "image/png": "[encoded data removed]",
      "text/plain": [
       "<Figure size 432x288 with 1 Axes>"
      ]
     },
     "metadata": {},
     "output_type": "display_data"
    }
   ],
   "source": [
    "# box_plot_data\n",
    "plt.ylim(2.5, 4.2)\n",
    "sns.boxplot(x = box_plot_data['ID'],\n",
    "            y = box_plot_data['UGPA'],\n",
    "            hue = box_plot_data['Type']).set(ylabel = 'UGPA', xlabel = 'Non-White Complainant ID')"
   ]
  },
  {
   "cell_type": "code",
   "execution_count": null,
   "metadata": {},
   "outputs": [],
   "source": []
  }
 ],
 "metadata": {
  "kernelspec": {
   "display_name": "fair_ml",
   "language": "python",
   "name": "fair_ml"
  },
  "language_info": {
   "codemirror_mode": {
    "name": "ipython",
    "version": 3
   },
   "file_extension": ".py",
   "mimetype": "text/x-python",
   "name": "python",
   "nbconvert_exporter": "python",
   "pygments_lexer": "ipython3",
   "version": "3.8.5"
  }
 },
 "nbformat": 4,
 "nbformat_minor": 4
}
